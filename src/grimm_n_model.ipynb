{
 "cells": [
  {
   "cell_type": "markdown",
   "metadata": {},
   "source": [
    "## Grimms' Extended Tales ~ N-Gram Model\n",
    "Using Markov assumption, we will build a basic language model using trigrams of the Gutenberg Corpus using the ```nltk``` package. Specifically, we will be looking at Grimms' Fairy Tales."
   ]
  },
  {
   "cell_type": "code",
   "execution_count": 122,
   "metadata": {},
   "outputs": [],
   "source": [
    "import nltk\n",
    "from nltk.corpus.reader.plaintext import PlaintextCorpusReader\n",
    "\n",
    "from nltk import bigrams, trigrams\n",
    "from collections import defaultdict, Counter\n",
    "import random"
   ]
  },
  {
   "cell_type": "code",
   "execution_count": 123,
   "metadata": {},
   "outputs": [],
   "source": [
    "# placeholder for the n-gram model\n",
    "n_gram_model = defaultdict(lambda: defaultdict(lambda: 0))"
   ]
  },
  {
   "cell_type": "code",
   "execution_count": 124,
   "metadata": {},
   "outputs": [
    {
     "data": {
      "text/plain": [
       "['FAIRY', 'TALES', 'By', 'The', 'Brothers', 'Grimm', ...]"
      ]
     },
     "execution_count": 124,
     "metadata": {},
     "output_type": "execute_result"
    }
   ],
   "source": [
    "# create a new corpus from the Grimms Fairy Tales text file.\n",
    "corpus_root = 'grimm/'\n",
    "grimm_txt = PlaintextCorpusReader(corpus_root, '.*')\n",
    "grimm_txt.words('grimm.txt')"
   ]
  },
  {
   "cell_type": "code",
   "execution_count": 125,
   "metadata": {},
   "outputs": [],
   "source": [
    "# calculate frequency for each combination trigram\n",
    "for sentence in grimm_txt.sents():\n",
    "    for w1, w2, w3 in trigrams(sentence, pad_right=True, pad_left=True):\n",
    "        n_gram_model[(w1, w2)][w3] += 1"
   ]
  },
  {
   "cell_type": "code",
   "execution_count": 126,
   "metadata": {},
   "outputs": [],
   "source": [
    "# count probabilities\n",
    "for w1_w2 in n_gram_model:\n",
    "    total_count = float(sum(n_gram_model[w1_w2].values()))\n",
    "    for w3 in n_gram_model[w1_w2]:\n",
    "        n_gram_model[w1_w2][w3] /= total_count"
   ]
  },
  {
   "cell_type": "code",
   "execution_count": 127,
   "metadata": {},
   "outputs": [
    {
     "data": {
      "text/plain": [
       "{'king': 0.1951219512195122,\n",
       " 'court': 0.024390243902439025,\n",
       " 'fairy': 0.04878048780487805,\n",
       " 'warm': 0.024390243902439025,\n",
       " 'house': 0.04878048780487805,\n",
       " 'dog': 0.04878048780487805,\n",
       " 'princesses': 0.024390243902439025,\n",
       " 'gate': 0.024390243902439025,\n",
       " 'cat': 0.04878048780487805,\n",
       " 'squirrel': 0.024390243902439025,\n",
       " 'sun': 0.024390243902439025,\n",
       " 'children': 0.024390243902439025,\n",
       " 'hut': 0.024390243902439025,\n",
       " 'fire': 0.024390243902439025,\n",
       " 'mayor': 0.07317073170731707,\n",
       " 'witch': 0.024390243902439025,\n",
       " 'old': 0.024390243902439025,\n",
       " 'sight': 0.024390243902439025,\n",
       " 'barrel': 0.024390243902439025,\n",
       " 'end': 0.024390243902439025,\n",
       " 'morrow': 0.024390243902439025,\n",
       " 'hall': 0.024390243902439025,\n",
       " 'judge': 0.024390243902439025,\n",
       " 'little': 0.024390243902439025,\n",
       " 'day': 0.024390243902439025,\n",
       " 'clock': 0.04878048780487805,\n",
       " 'palace': 0.024390243902439025}"
      ]
     },
     "execution_count": 127,
     "metadata": {},
     "output_type": "execute_result"
    }
   ],
   "source": [
    "# predict next word\n",
    "dict(n_gram_model[\"before\", \"the\"])"
   ]
  },
  {
   "cell_type": "markdown",
   "metadata": {},
   "source": [
    "__Note__: The highest possible word probability wise is ```'king': 0.195```. Let's see what we get next!"
   ]
  },
  {
   "cell_type": "code",
   "execution_count": 128,
   "metadata": {},
   "outputs": [
    {
     "data": {
      "text/plain": [
       "{'in': 0.008620689655172414,\n",
       " 'said': 0.03879310344827586,\n",
       " '.': 0.05172413793103448,\n",
       " 'the': 0.017241379310344827,\n",
       " ',': 0.125,\n",
       " 'was': 0.02586206896551724,\n",
       " ';': 0.017241379310344827,\n",
       " 'their': 0.004310344827586207,\n",
       " \"'\": 0.2974137931034483,\n",
       " 'could': 0.004310344827586207,\n",
       " 'and': 0.034482758620689655,\n",
       " 'hoped': 0.004310344827586207,\n",
       " 'made': 0.01293103448275862,\n",
       " 'ordered': 0.02586206896551724,\n",
       " 'with': 0.004310344827586207,\n",
       " 'asked': 0.008620689655172414,\n",
       " 'all': 0.004310344827586207,\n",
       " 'called': 0.004310344827586207,\n",
       " '?': 0.004310344827586207,\n",
       " 'what': 0.004310344827586207,\n",
       " 'of': 0.017241379310344827,\n",
       " 'came': 0.02586206896551724,\n",
       " 'soon': 0.004310344827586207,\n",
       " 'saw': 0.01293103448275862,\n",
       " 'felt': 0.004310344827586207,\n",
       " 'insisted': 0.004310344827586207,\n",
       " 'replied': 0.004310344827586207,\n",
       " 'if': 0.004310344827586207,\n",
       " 'had': 0.034482758620689655,\n",
       " 'sent': 0.017241379310344827,\n",
       " 'his': 0.004310344827586207,\n",
       " 'never': 0.004310344827586207,\n",
       " 'as': 0.008620689655172414,\n",
       " 'mourned': 0.004310344827586207,\n",
       " 'put': 0.004310344827586207,\n",
       " 'then': 0.004310344827586207,\n",
       " 'faithfully': 0.008620689655172414,\n",
       " 'who': 0.004310344827586207,\n",
       " 'did': 0.01293103448275862,\n",
       " 'again': 0.008620689655172414,\n",
       " 'let': 0.004310344827586207,\n",
       " 'has': 0.008620689655172414,\n",
       " 'shut': 0.004310344827586207,\n",
       " ':': 0.008620689655172414,\n",
       " 'believe': 0.004310344827586207,\n",
       " 'to': 0.021551724137931036,\n",
       " 'thought': 0.004310344827586207,\n",
       " 'held': 0.004310344827586207,\n",
       " 'got': 0.008620689655172414,\n",
       " 'heard': 0.004310344827586207,\n",
       " 'returned': 0.004310344827586207,\n",
       " 'must': 0.004310344827586207,\n",
       " 'looked': 0.008620689655172414,\n",
       " 'would': 0.004310344827586207,\n",
       " 'went': 0.004310344827586207,\n",
       " 'better': 0.004310344827586207,\n",
       " 'danced': 0.004310344827586207}"
      ]
     },
     "execution_count": 128,
     "metadata": {},
     "output_type": "execute_result"
    }
   ],
   "source": [
    "dict(n_gram_model[\"the\", \"king\"])"
   ]
  },
  {
   "cell_type": "markdown",
   "metadata": {},
   "source": [
    "__Note:__ As you can see, the highest probability here is ```\"'\": 0.2974137931034483```. We can assume that the word will be ```king's```."
   ]
  },
  {
   "cell_type": "code",
   "execution_count": 129,
   "metadata": {},
   "outputs": [
    {
     "data": {
      "text/plain": [
       "{'s': 1.0}"
      ]
     },
     "execution_count": 129,
     "metadata": {},
     "output_type": "execute_result"
    }
   ],
   "source": [
    "dict(n_gram_model[\"king\", \"'\"])"
   ]
  },
  {
   "cell_type": "markdown",
   "metadata": {},
   "source": [
    "__Note:__ If we continue on, we will eventually make a pretty understandable sentence. Let's automate this a bit and see what happens!"
   ]
  },
  {
   "cell_type": "code",
   "execution_count": 130,
   "metadata": {},
   "outputs": [],
   "source": [
    "# save output to file and read\n",
    "def append_file(text, title):\n",
    "    with open(title, \"a\") as f:\n",
    "        f.write(' '.join([t for t in text if t]))\n",
    "        f.write('\\n')\n",
    "        f.write('\\n')\n",
    "        f.close()"
   ]
  },
  {
   "cell_type": "code",
   "execution_count": 131,
   "metadata": {},
   "outputs": [],
   "source": [
    "# read file\n",
    "def read_file(file):\n",
    "    read_file = open(file, 'r') \n",
    "    print(read_file.read()) \n",
    "    read_file.close()"
   ]
  },
  {
   "cell_type": "code",
   "execution_count": 132,
   "metadata": {},
   "outputs": [],
   "source": [
    "# use model to create new text\n",
    "def generate_text(text):\n",
    "    num_sentences = 0\n",
    "    n = 5\n",
    "\n",
    "    while num_sentences < n:\n",
    "\n",
    "        # select a random probability threshold  \n",
    "        r = random.random()\n",
    "        accumulator = 0.002\n",
    "\n",
    "        for word in n_gram_model[tuple(text[-2:])].keys():\n",
    "            accumulator += n_gram_model[tuple(text[-2:])][word]\n",
    "\n",
    "        # select words that are above the probability threshold\n",
    "            if accumulator >= r:\n",
    "                text.append(word)\n",
    "                break\n",
    "\n",
    "        if text[-2:] == [None, None]:\n",
    "            num_sentences = num_sentences + 1\n",
    "\n",
    "    return text"
   ]
  },
  {
   "cell_type": "code",
   "execution_count": 133,
   "metadata": {},
   "outputs": [
    {
     "data": {
      "text/plain": [
       "'tales/third_;.txt'"
      ]
     },
     "execution_count": 133,
     "metadata": {},
     "output_type": "execute_result"
    }
   ],
   "source": [
    "# generate a random title\n",
    "random_words = random.choice(list(n_gram_model.items()))\n",
    "random_title = [random_words[0][0], random_words[0][1]] # returns a tuple so return string only!\n",
    "title = 'tales/' + '_'.join([w for w in random_title if w]) + '.txt'\n",
    "title"
   ]
  },
  {
   "cell_type": "code",
   "execution_count": 136,
   "metadata": {
    "collapsed": true,
    "jupyter": {
     "outputs_hidden": true
    }
   },
   "outputs": [
    {
     "name": "stdout",
     "output_type": "stream",
     "text": [
      "not choose to be afraid of , and got her foot ; and Frederick said , ' You have deceived me !' On the third , he will be true to him , and full of peas , and on till he had done very little trouble about that ; I am quite innocent . But the prince , and ask if it were eating . ' There is some enchantment ; you seem to bind me fast , and when the first ; ' come along with him into a thorn - bush with one rose on it ?' look to the rack , and take leave of the water .\n",
      "\n",
      "obedient and industrious , and as they were sad . Then he was doing so , you may make himself a fire , that she fell on the ground beside a straw , however , you know how to shudder .' But Hansel comforted her and then these two , it will bring down everything I shoot at him . As he had , you should have his revenge . But the mother , ' have I , or bridge in sight , Take us out , ' what does she want now ?'\n",
      "\n",
      "dry bread together ; and thirdly , I will sleep first ? And thus she had gone forth , no , not knowing where the two brothers who were to cut fuel , he was thankful to the ground , and had neither stairs nor door , and knew not whither , till the judge condemned him to his own . ' Alas !' One of you something in exchange for those three things is true .' But when she unwrapped the cloth it was the matter ; I should like that of an eye , and drank till his loins hurt , and cook and wash and knit and spin , and then we shall suffer for it : then the fox said , ' If you can do .'\n",
      "\n",
      "Emma Dudding , John Bickers , and you can perform such deeds as that blood , her husband , and that he had all that he had put this round him , and when he came to the bottom . said the huntsman washed his face all over with you , if you will see if it were .' ' Why did not lie down on the way , and now I will never get out of their beds . And as the girl went on the following day the wife , and never once stirred . ' But ,' said he to have , and that is passing in the kingdom must give him up , and two skulls , and carried away by the door to be just then there are all the good fairy told me he should do , when the snowflakes fell , and in it ; and she herself put on the summons ; and he answered ; ' there is a chaffinch ' s counsel , he said : ' The wind , so she said , ' is there ?'\n",
      "\n",
      "Elsie and the dawn had roused them , and placed him on the shore , threw it so that he cleft it in his pocket , and said to the dog said , ' You are mine , Nor dirty my pretty red wheels so fine that no one told me not ! Let Curdken ' s counsel , and looked about right and left her plenty of meat .' The son was ordered to watch the pot was placed in the nest , and even spoke more haughtily than before : ' I ' ll behave well . As soon as the time hung heavy upon him his dismissal , for it had told him that the cart , and showed me a piece of bread , and when I have already heated the king as seeking a situation , and again had his twelve huntsmen .\n",
      "\n",
      "many - league boots , and after some time the ale nicely . And when Ashputtel begged very hard and fast that with me , who is in our care .' The fourth was too large . ' Ah , here you will be a clever Elsie , ' One of the ashes , but there he heard the trampling of a husband ; but when he sat and watched . The wedding was to be found .\n",
      "\n",
      "CLEVER GRETEL THE OLD MAN AND HIS GRANDSON Fill your pocket .' She called out : ' why should we stop at being emperor ? When they arrived , the mouse had made up their hearts , and all come help me . But the old palace was surrounded and hidden there , and the fox ' s bed before she reached the spot where the salad can be done , and all round my garden for me out four ounces , dear Hans , is it with him ; and a little while and see what has happened on account of your body shall be satisfied .'\n",
      "\n",
      "eaten from my window .' ' You with your children , however , quickly fetched great stones with which they found no one else : and so all were asleep , go to the miller was to be pope ; and as the sausage , entered into the field : but , on the ground . He saw very well '; and he muttered as he wished to enjoy this great profit , and when the sun shines ; I will go home ; and at length she came to a house , and journeyed on day and hay once ; give the peasant shut the oven , from time to time , it will be turned into stone as the cook said : so he amused himself by the hand , and almost blinded him . It was a rose , flew away ; but I will trust to you .' Then the wedding feast was over , he should come to the castle , before it gets hot , and , fetching the egg which Partlet had laid his head that he might see and hear nothing , but again the princess was compelled to do good to my kingdom .'\n",
      "\n",
      "there they live to this , he envied him sorely , and as she went into the water ; but there the water and drink the milk : don ' t want to warm themselves . When the old woman was a burning as of fire . ' You are already two too many for me to draw it ; for the sake of one of his sons in haste I swallowed a ring as a tub ,' said she ; ' do not know what I am sure I heard someone standing at the dwarfs came in sight , trotting gaily along on a bough , which was all in vain . There was once a poor wood - cutter with his youngest and dearest daughter , and the moment he disappeared , and she still stayed away . ' You have dipped your finger into the castle , and was astonished at this he was turned into stone .\n",
      "\n",
      "rode back and went away home . The prince started at this and asked what name had been in too great a sin and a wicked look in his turn . Then the king ' s head till he came he was sitting at a high wall , and tell him what he wanted before the sun scorches so that he had embarked all his kingdom weave the three servants came , and at last in her heart leaped for joy , and the princess ; and she was certain he would give any answer or not . The coast once clear , our mother has come home and told him that he had done ; and whilst he was now time to take him in it , before we go together to the king and the prince , and the old witch made a fire for them , and look about you a famous noise ; pray , kill her on a throne that was the middle of it ; for she wanted to have any money paid for your horse ; I only made sport of her pocket , and made to fetch me some water , and tie our sashes for us ,' and ran off as if it were with hands ; and then they went through all the court , and told him it was an enchanted prince , ' go into it , something cried suddenly from one another . The dog liked this plan very well that he might not suffer him to ask her in his true shape , and the gold is hidden .'\n",
      "\n",
      "Besides that , and said , ' Mother , give me only a dream , and as the day before . With that the blood came , and it kept getting larger and larger , and gave him the promised reward ; he must give a fat goose for a long time all went well with their hands for joy at their coming , and not likely , and what shall I eat first .' ' The cloak is a golden apple to the king asked him what had happened . There was a wicket , so the old woman took it up entirely ; when on a table ; and she could to the palace and saw that it blew off Curdken ' s little cottage .' ' Fair and softly ,' said he was very hungry , she stretched down her hair standing out there eating .\n",
      "\n",
      "then in time ; at length came a peasant woman down the steps King Grisly - beard , whereby a small piece , and sailed away over the whole night until daybreak . So he began to move , and when it stood before him . He lifted her up , unbound one of which there was a rose - bush , and gave her goodness , another wolf spoke to Falada , and that he was turned into stone . ' No ,' said the wife struck ; but howsoever much the faster . The prince told him that he might , it is to be softened , and the cow good morning ' to be taken from her plate and cup were always empty .\n",
      "\n",
      "\n"
     ]
    }
   ],
   "source": [
    "# generate grimm new tales text\n",
    "paragraph = 0\n",
    "while paragraph < 6:\n",
    "    # begin with randomized words from the corpus\n",
    "    random_entry = random.choice(list(n_gram_model.items()))\n",
    "    text = [random_entry[0][0], random_entry[0][1]]\n",
    "    story = generate_text(text)\n",
    "    \n",
    "    # add results to text file\n",
    "    append_file(story, title)\n",
    "    \n",
    "    paragraph += 1\n",
    "\n",
    "# results\n",
    "read_file(title)"
   ]
  },
  {
   "cell_type": "markdown",
   "metadata": {},
   "source": [
    "__Observation__: No matter what, Grimms' Tales are very strange indeed!"
   ]
  }
 ],
 "metadata": {
  "kernelspec": {
   "display_name": "Python 3",
   "language": "python",
   "name": "python3"
  },
  "language_info": {
   "codemirror_mode": {
    "name": "ipython",
    "version": 3
   },
   "file_extension": ".py",
   "mimetype": "text/x-python",
   "name": "python",
   "nbconvert_exporter": "python",
   "pygments_lexer": "ipython3",
   "version": "3.7.4"
  }
 },
 "nbformat": 4,
 "nbformat_minor": 4
}
